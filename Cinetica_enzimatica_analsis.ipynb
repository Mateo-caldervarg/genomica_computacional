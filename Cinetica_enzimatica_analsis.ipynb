{
 "cells": [
  {
   "cell_type": "markdown",
   "id": "31d9f3ee",
   "metadata": {},
   "source": [
    "# Proyecto de creación de Script para el analisis de datos de cinética enzimática. "
   ]
  },
  {
   "cell_type": "code",
   "execution_count": 2,
   "id": "093d109b",
   "metadata": {},
   "outputs": [],
   "source": [
    "import numpy as np \n",
    "import matplotlib.pyplot as plt\n",
    "import pandas as pd\n",
    "from sklearn.linear_model import LinearRegression"
   ]
  },
  {
   "cell_type": "code",
   "execution_count": 3,
   "id": "438416dc",
   "metadata": {},
   "outputs": [
    {
     "name": "stdout",
     "output_type": "stream",
     "text": [
      "Introduzca el nombre del archivo a analizar \n"
     ]
    }
   ],
   "source": [
    "nombre_archivo = input(\"Introduzca el nombre del archivo a analizar \")"
   ]
  },
  {
   "cell_type": "code",
   "execution_count": 33,
   "id": "45e35607",
   "metadata": {},
   "outputs": [
    {
     "name": "stdout",
     "output_type": "stream",
     "text": [
      "Introduzca el número de columnas que contiene su arhicvo5\n"
     ]
    }
   ],
   "source": [
    "columns = input('Introduzca el número de columnas que contiene su arhicvo')"
   ]
  },
  {
   "cell_type": "code",
   "execution_count": 34,
   "id": "f68288f4",
   "metadata": {},
   "outputs": [
    {
     "data": {
      "text/plain": [
       "'5'"
      ]
     },
     "execution_count": 34,
     "metadata": {},
     "output_type": "execute_result"
    }
   ],
   "source": [
    "columns"
   ]
  },
  {
   "cell_type": "code",
   "execution_count": 3,
   "id": "8e3e4588",
   "metadata": {},
   "outputs": [
    {
     "name": "stdout",
     "output_type": "stream",
     "text": [
      "   sustrato  Control      I      X      Y      Z\n",
      "0      0.20    16.67   6.25   5.56  10.00   8.89\n",
      "1      0.25    20.00   7.69   6.67  11.11  10.81\n",
      "2      0.33    24.98  10.00   8.33  12.50  13.78\n",
      "3      0.50    33.33  14.29  11.11  14.29  19.05\n",
      "4      1.00    50.00  25.00  16.67  16.67  30.77\n",
      "5      2.00    66.67  40.00  22.22  18.18  44.44\n",
      "6      2.50    71.40  45.45  23.81  18.52  48.78\n",
      "7      3.33    76.92  52.63  25.64  18.87  54.06\n",
      "8      4.00    80.00  57.14  26.67  19.00  57.14\n",
      "9      5.00    83.33  62.50  27.77  19.23  60.60\n"
     ]
    }
   ],
   "source": [
    "df = pd.read_excel('Datos__prueba_Cinética.xlsx', header=0) #cargamos el archivo donde están los datos y mostramos el arreglo de datos \n",
    "print(df) "
   ]
  },
  {
   "cell_type": "code",
   "execution_count": 10,
   "id": "17328722",
   "metadata": {},
   "outputs": [],
   "source": [
    "#df.iloc[:, [0]]\n",
    "\n",
    "df.columns\n",
    "lista = df['sustrato'].to_list()"
   ]
  },
  {
   "cell_type": "code",
   "execution_count": 12,
   "id": "0a90aa2c",
   "metadata": {},
   "outputs": [
    {
     "ename": "NameError",
     "evalue": "name 'k' is not defined",
     "output_type": "error",
     "traceback": [
      "\u001b[0;31m---------------------------------------------------------------------------\u001b[0m",
      "\u001b[0;31mNameError\u001b[0m                                 Traceback (most recent call last)",
      "\u001b[0;32m/tmp/ipykernel_6172/1429739322.py\u001b[0m in \u001b[0;36m<module>\u001b[0;34m\u001b[0m\n\u001b[0;32m----> 1\u001b[0;31m \u001b[0;32mfor\u001b[0m \u001b[0mk\u001b[0m \u001b[0;32min\u001b[0m \u001b[0mdf\u001b[0m\u001b[0;34m.\u001b[0m\u001b[0miloc\u001b[0m\u001b[0;34m[\u001b[0m\u001b[0;34m:\u001b[0m\u001b[0;34m,\u001b[0m \u001b[0;34m[\u001b[0m\u001b[0mk\u001b[0m\u001b[0;34m]\u001b[0m\u001b[0;34m]\u001b[0m\u001b[0;34m:\u001b[0m\u001b[0;34m\u001b[0m\u001b[0;34m\u001b[0m\u001b[0m\n\u001b[0m\u001b[1;32m      2\u001b[0m     \u001b[0mdf\u001b[0m\u001b[0;34m.\u001b[0m\u001b[0mcolumns\u001b[0m\u001b[0;34m[\u001b[0m\u001b[0mk\u001b[0m\u001b[0;34m]\u001b[0m \u001b[0;34m=\u001b[0m \u001b[0mdf\u001b[0m\u001b[0;34m[\u001b[0m\u001b[0mk\u001b[0m\u001b[0;34m]\u001b[0m\u001b[0;34m.\u001b[0m\u001b[0mto_list\u001b[0m\u001b[0;34m(\u001b[0m\u001b[0;34m)\u001b[0m\u001b[0;34m\u001b[0m\u001b[0;34m\u001b[0m\u001b[0m\n",
      "\u001b[0;31mNameError\u001b[0m: name 'k' is not defined"
     ]
    }
   ],
   "source": [
    "for k in df.iloc[:, [k]]:\n",
    "    df.columns[k] = df[k].to_list()"
   ]
  },
  {
   "cell_type": "code",
   "execution_count": 4,
   "id": "65edac2b",
   "metadata": {},
   "outputs": [],
   "source": [
    "sus = list(df.sustrato) #cada columna la convertimos a una lista para poder graficarlo \n",
    "enzima_control = list(df.Control)\n",
    "inhibidor_I = list(df.I)\n",
    "inhibidor_X = list(df.X)\n",
    "inhibidor_Y = list(df.Y)\n",
    "inhibidor_Z = list(df.Z)"
   ]
  },
  {
   "cell_type": "code",
   "execution_count": 16,
   "id": "4b2ce277",
   "metadata": {},
   "outputs": [
    {
     "data": {
      "image/png": "[encoded data removed]",
      "text/plain": [
       "<Figure size 432x288 with 1 Axes>"
      ]
     },
     "metadata": {
      "needs_background": "light"
     },
     "output_type": "display_data"
    }
   ],
   "source": [
    "plt.plot(sus, enzima_control)\n",
    "plt.plot(sus, inhibidor_I)\n",
    "plt.plot(sus, inhibidor_X)\n",
    "plt.plot(sus, inhibidor_Y)\n",
    "plt.plot(sus, inhibidor_Z)\n",
    "\n",
    "plt.xlabel(\"Concentración de sustrato [mM]\")\n",
    "plt.ylabel(\"Velocidad inicial\")\n",
    "\n",
    "#plt.show()"
   ]
  },
  {
   "cell_type": "code",
   "execution_count": 5,
   "id": "283beb55",
   "metadata": {},
   "outputs": [],
   "source": [
    "inv_sus = [1/elemento for elemento in sus] #sacamos el inverso de cada elemento en cada lista para graficar\n",
    "inv_control = [1/elemento for elemento in enzima_control]\n",
    "inv_I = [1/elemento for elemento in inhibidor_I]\n",
    "inv_X = [1/elemento for elemento in inhibidor_X]\n",
    "inv_Y = [1/elemento for elemento in inhibidor_Y]\n",
    "inv_Z = [1/elemento for elemento in inhibidor_Z]"
   ]
  },
  {
   "cell_type": "code",
   "execution_count": 21,
   "id": "ca122f7e",
   "metadata": {},
   "outputs": [
    {
     "data": {
      "text/plain": [
       "Text(0.5, 1.0, 'Gráfico de Lineweaver-Burk para Control vs Inhibidor I')"
      ]
     },
     "execution_count": 21,
     "metadata": {},
     "output_type": "execute_result"
    },
    {
     "data": {
      "image/png": "[encoded data removed]",
      "text/plain": [
       "<Figure size 432x288 with 1 Axes>"
      ]
     },
     "metadata": {
      "needs_background": "light"
     },
     "output_type": "display_data"
    }
   ],
   "source": [
    "plt.scatter(inv_sus, inv_control)\n",
    "plt.scatter(inv_sus, inv_I)\n",
    "\n",
    "plt.xlabel(\"1/[S]\")\n",
    "plt.ylabel(\"1/Vo\")\n",
    "plt.title(\"Gráfico de Lineweaver-Burk para Control vs Inhibidor I\")"
   ]
  },
  {
   "cell_type": "code",
   "execution_count": 22,
   "id": "66870860",
   "metadata": {},
   "outputs": [
    {
     "data": {
      "text/plain": [
       "Text(0.5, 1.0, 'Gráfico de Lineweaver-Burk para Control vs Inhibidor X')"
      ]
     },
     "execution_count": 22,
     "metadata": {},
     "output_type": "execute_result"
    },
    {
     "data": {
      "image/png": "[encoded data removed]",
      "text/plain": [
       "<Figure size 432x288 with 1 Axes>"
      ]
     },
     "metadata": {
      "needs_background": "light"
     },
     "output_type": "display_data"
    }
   ],
   "source": [
    "plt.scatter(inv_sus, inv_control)\n",
    "plt.scatter(inv_sus, inv_X)\n",
    "\n",
    "plt.xlabel(\"1/[S]\")\n",
    "plt.ylabel(\"1/Vo\")\n",
    "plt.title(\"Gráfico de Lineweaver-Burk para Control vs Inhibidor X\")"
   ]
  },
  {
   "cell_type": "code",
   "execution_count": 23,
   "id": "0ee04fcb",
   "metadata": {},
   "outputs": [
    {
     "data": {
      "text/plain": [
       "Text(0.5, 1.0, 'Gráfico de Lineweaver-Burk para Control vs Inhibidor Y')"
      ]
     },
     "execution_count": 23,
     "metadata": {},
     "output_type": "execute_result"
    },
    {
     "data": {
      "image/png": "[encoded data removed]",
      "text/plain": [
       "<Figure size 432x288 with 1 Axes>"
      ]
     },
     "metadata": {
      "needs_background": "light"
     },
     "output_type": "display_data"
    }
   ],
   "source": [
    "plt.scatter(inv_sus, inv_control)\n",
    "plt.scatter(inv_sus, inv_Y)\n",
    "\n",
    "plt.xlabel(\"1/[S]\")\n",
    "plt.ylabel(\"1/Vo\")\n",
    "plt.title(\"Gráfico de Lineweaver-Burk para Control vs Inhibidor Y\")"
   ]
  },
  {
   "cell_type": "code",
   "execution_count": 24,
   "id": "08be66bb",
   "metadata": {
    "scrolled": true
   },
   "outputs": [
    {
     "data": {
      "text/plain": [
       "Text(0.5, 1.0, 'Gráfico de Lineweaver-Burk para Control vs Inhibidor Z')"
      ]
     },
     "execution_count": 24,
     "metadata": {},
     "output_type": "execute_result"
    },
    {
     "data": {
      "image/png": "[encoded data removed]",
      "text/plain": [
       "<Figure size 432x288 with 1 Axes>"
      ]
     },
     "metadata": {
      "needs_background": "light"
     },
     "output_type": "display_data"
    }
   ],
   "source": [
    "plt.scatter(inv_sus, inv_control)\n",
    "plt.scatter(inv_sus, inv_Z)\n",
    "\n",
    "plt.xlabel(\"1/[S]\")\n",
    "plt.ylabel(\"1/Vo\")\n",
    "plt.title(\"Gráfico de Lineweaver-Burk para Control vs Inhibidor Z\")"
   ]
  },
  {
   "cell_type": "code",
   "execution_count": 19,
   "id": "b4e6ce49",
   "metadata": {},
   "outputs": [],
   "source": [
    "inv_sus_array = np.array(inv_sus, float).reshape(-1, 1)\n",
    "inv_control_array = np.array(inv_control, float).reshape(-1, 1) #Enz control\n",
    "\n",
    "#Inhibidores\n",
    "inv_I_array = np.array(inv_I, float).reshape(-1, 1)\n",
    "inv_X_array = np.array(inv_X, float).reshape(-1, 1)\n",
    "inv_Y_array = np.array(inv_Y, float).reshape(-1, 1)\n",
    "inv_Z_array = np.array(inv_Z, float).reshape(-1, 1)"
   ]
  },
  {
   "cell_type": "code",
   "execution_count": 20,
   "id": "75416f32",
   "metadata": {},
   "outputs": [],
   "source": [
    "linear_regressor = LinearRegression()\n",
    "reg_control = linear_regressor.fit(inv_sus_array, inv_control_array)\n",
    "\n",
    "reg_I = linear_regressor.fit(inv_sus_array, inv_I_array)\n",
    "reg_X = linear_regressor.fit(inv_sus_array, inv_X_array)\n",
    "reg_Y = linear_regressor.fit(inv_sus_array, inv_Y_array)\n",
    "reg_Z = linear_regressor.fit(inv_sus_array, inv_Z_array)"
   ]
  },
  {
   "cell_type": "code",
   "execution_count": 21,
   "id": "b10e2205",
   "metadata": {},
   "outputs": [
    {
     "data": {
      "text/plain": [
       "array([0.01248984])"
      ]
     },
     "execution_count": 21,
     "metadata": {},
     "output_type": "execute_result"
    }
   ],
   "source": [
    "#Parámetros de la enzima control\n",
    "reg_control.coef_ #pendiete e intercepcion de la enzima control\n",
    "reg_control.intercept_ \n",
    "\n",
    "#parámetros con inhibidor I\n",
    "reg_I.coef_\n",
    "reg_I.intercept_\n",
    "\n",
    "#parámetros con inhibidor X\n",
    "reg_X.coef_\n",
    "reg_X.intercept_\n",
    "\n",
    "#parámetros con inhbidor Y\n",
    "reg_Y.coef_\n",
    "reg_Y.intercept_\n",
    "\n",
    "#parámetros con inhibidor Z\n",
    "reg_Z.coef_\n",
    "reg_Z.intercept_"
   ]
  },
  {
   "cell_type": "code",
   "execution_count": null,
   "id": "0b1ae506",
   "metadata": {},
   "outputs": [],
   "source": []
  },
  {
   "cell_type": "code",
   "execution_count": null,
   "id": "e028f91e",
   "metadata": {},
   "outputs": [],
   "source": []
  }
 ],
 "metadata": {
  "kernelspec": {
   "display_name": "Python 3 (ipykernel)",
   "language": "python",
   "name": "python3"
  },
  "language_info": {
   "codemirror_mode": {
    "name": "ipython",
    "version": 3
   },
   "file_extension": ".py",
   "mimetype": "text/x-python",
   "name": "python",
   "nbconvert_exporter": "python",
   "pygments_lexer": "ipython3",
   "version": "3.9.7"
  }
 },
 "nbformat": 4,
 "nbformat_minor": 5
}
